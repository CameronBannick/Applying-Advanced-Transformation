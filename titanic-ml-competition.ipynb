{
 "cells": [
  {
   "cell_type": "markdown",
   "id": "8320e74f",
   "metadata": {
    "papermill": {
     "duration": 0.005408,
     "end_time": "2023-11-26T23:29:05.045290",
     "exception": false,
     "start_time": "2023-11-26T23:29:05.039882",
     "status": "completed"
    },
    "tags": []
   },
   "source": [
    " # Import libraries and data"
   ]
  },
  {
   "cell_type": "code",
   "execution_count": 1,
   "id": "a40de62f",
   "metadata": {
    "_cell_guid": "b1076dfc-b9ad-4769-8c92-a6c4dae69d19",
    "_uuid": "8f2839f25d086af736a60e9eeb907d3b93b6e0e5",
    "execution": {
     "iopub.execute_input": "2023-11-26T23:29:05.058348Z",
     "iopub.status.busy": "2023-11-26T23:29:05.057072Z",
     "iopub.status.idle": "2023-11-26T23:29:06.756394Z",
     "shell.execute_reply": "2023-11-26T23:29:06.754701Z"
    },
    "papermill": {
     "duration": 1.708413,
     "end_time": "2023-11-26T23:29:06.760116",
     "exception": false,
     "start_time": "2023-11-26T23:29:05.051703",
     "status": "completed"
    },
    "tags": []
   },
   "outputs": [
    {
     "name": "stdout",
     "output_type": "stream",
     "text": [
      "/kaggle/input/titanic/train.csv\n",
      "/kaggle/input/titanic/test.csv\n",
      "/kaggle/input/titanic/gender_submission.csv\n"
     ]
    }
   ],
   "source": [
    "#standard imports\n",
    "import numpy as np # linear algebra\n",
    "import pandas as pd # data processing, CSV file I/O (e.g. pd.read_csv)\n",
    "import os\n",
    "import scipy.stats as stats\n",
    "#data viz imports\n",
    "import matplotlib.pyplot as plt\n",
    "import seaborn as sns\n",
    "\n",
    "#for loop to read data\n",
    "for dirname, _, filenames in os.walk('/kaggle/input'):\n",
    "    for filename in filenames:\n",
    "        print(os.path.join(dirname, filename))"
   ]
  },
  {
   "cell_type": "code",
   "execution_count": 2,
   "id": "7680c886",
   "metadata": {
    "execution": {
     "iopub.execute_input": "2023-11-26T23:29:06.771383Z",
     "iopub.status.busy": "2023-11-26T23:29:06.770258Z",
     "iopub.status.idle": "2023-11-26T23:29:06.850004Z",
     "shell.execute_reply": "2023-11-26T23:29:06.848687Z"
    },
    "papermill": {
     "duration": 0.087532,
     "end_time": "2023-11-26T23:29:06.852119",
     "exception": false,
     "start_time": "2023-11-26T23:29:06.764587",
     "status": "completed"
    },
    "tags": []
   },
   "outputs": [
    {
     "data": {
      "text/html": [
       "<div>\n",
       "<style scoped>\n",
       "    .dataframe tbody tr th:only-of-type {\n",
       "        vertical-align: middle;\n",
       "    }\n",
       "\n",
       "    .dataframe tbody tr th {\n",
       "        vertical-align: top;\n",
       "    }\n",
       "\n",
       "    .dataframe thead th {\n",
       "        text-align: right;\n",
       "    }\n",
       "</style>\n",
       "<table border=\"1\" class=\"dataframe\">\n",
       "  <thead>\n",
       "    <tr style=\"text-align: right;\">\n",
       "      <th></th>\n",
       "      <th>PassengerId</th>\n",
       "      <th>Survived</th>\n",
       "      <th>Pclass</th>\n",
       "      <th>Name</th>\n",
       "      <th>Sex</th>\n",
       "      <th>Age</th>\n",
       "      <th>SibSp</th>\n",
       "      <th>Parch</th>\n",
       "      <th>Ticket</th>\n",
       "      <th>Fare</th>\n",
       "      <th>Cabin</th>\n",
       "      <th>Embarked</th>\n",
       "    </tr>\n",
       "  </thead>\n",
       "  <tbody>\n",
       "    <tr>\n",
       "      <th>0</th>\n",
       "      <td>1</td>\n",
       "      <td>0</td>\n",
       "      <td>3</td>\n",
       "      <td>Braund, Mr. Owen Harris</td>\n",
       "      <td>male</td>\n",
       "      <td>22.0</td>\n",
       "      <td>1</td>\n",
       "      <td>0</td>\n",
       "      <td>A/5 21171</td>\n",
       "      <td>7.2500</td>\n",
       "      <td>NaN</td>\n",
       "      <td>S</td>\n",
       "    </tr>\n",
       "    <tr>\n",
       "      <th>1</th>\n",
       "      <td>2</td>\n",
       "      <td>1</td>\n",
       "      <td>1</td>\n",
       "      <td>Cumings, Mrs. John Bradley (Florence Briggs Th...</td>\n",
       "      <td>female</td>\n",
       "      <td>38.0</td>\n",
       "      <td>1</td>\n",
       "      <td>0</td>\n",
       "      <td>PC 17599</td>\n",
       "      <td>71.2833</td>\n",
       "      <td>C85</td>\n",
       "      <td>C</td>\n",
       "    </tr>\n",
       "  </tbody>\n",
       "</table>\n",
       "</div>"
      ],
      "text/plain": [
       "   PassengerId  Survived  Pclass  \\\n",
       "0            1         0       3   \n",
       "1            2         1       1   \n",
       "\n",
       "                                                Name     Sex   Age  SibSp  \\\n",
       "0                            Braund, Mr. Owen Harris    male  22.0      1   \n",
       "1  Cumings, Mrs. John Bradley (Florence Briggs Th...  female  38.0      1   \n",
       "\n",
       "   Parch     Ticket     Fare Cabin Embarked  \n",
       "0      0  A/5 21171   7.2500   NaN        S  \n",
       "1      0   PC 17599  71.2833   C85        C  "
      ]
     },
     "metadata": {},
     "output_type": "display_data"
    },
    {
     "data": {
      "text/html": [
       "<div>\n",
       "<style scoped>\n",
       "    .dataframe tbody tr th:only-of-type {\n",
       "        vertical-align: middle;\n",
       "    }\n",
       "\n",
       "    .dataframe tbody tr th {\n",
       "        vertical-align: top;\n",
       "    }\n",
       "\n",
       "    .dataframe thead th {\n",
       "        text-align: right;\n",
       "    }\n",
       "</style>\n",
       "<table border=\"1\" class=\"dataframe\">\n",
       "  <thead>\n",
       "    <tr style=\"text-align: right;\">\n",
       "      <th></th>\n",
       "      <th>PassengerId</th>\n",
       "      <th>Pclass</th>\n",
       "      <th>Name</th>\n",
       "      <th>Sex</th>\n",
       "      <th>Age</th>\n",
       "      <th>SibSp</th>\n",
       "      <th>Parch</th>\n",
       "      <th>Ticket</th>\n",
       "      <th>Fare</th>\n",
       "      <th>Cabin</th>\n",
       "      <th>Embarked</th>\n",
       "    </tr>\n",
       "  </thead>\n",
       "  <tbody>\n",
       "    <tr>\n",
       "      <th>0</th>\n",
       "      <td>892</td>\n",
       "      <td>3</td>\n",
       "      <td>Kelly, Mr. James</td>\n",
       "      <td>male</td>\n",
       "      <td>34.5</td>\n",
       "      <td>0</td>\n",
       "      <td>0</td>\n",
       "      <td>330911</td>\n",
       "      <td>7.8292</td>\n",
       "      <td>NaN</td>\n",
       "      <td>Q</td>\n",
       "    </tr>\n",
       "    <tr>\n",
       "      <th>1</th>\n",
       "      <td>893</td>\n",
       "      <td>3</td>\n",
       "      <td>Wilkes, Mrs. James (Ellen Needs)</td>\n",
       "      <td>female</td>\n",
       "      <td>47.0</td>\n",
       "      <td>1</td>\n",
       "      <td>0</td>\n",
       "      <td>363272</td>\n",
       "      <td>7.0000</td>\n",
       "      <td>NaN</td>\n",
       "      <td>S</td>\n",
       "    </tr>\n",
       "  </tbody>\n",
       "</table>\n",
       "</div>"
      ],
      "text/plain": [
       "   PassengerId  Pclass                              Name     Sex   Age  SibSp  \\\n",
       "0          892       3                  Kelly, Mr. James    male  34.5      0   \n",
       "1          893       3  Wilkes, Mrs. James (Ellen Needs)  female  47.0      1   \n",
       "\n",
       "   Parch  Ticket    Fare Cabin Embarked  \n",
       "0      0  330911  7.8292   NaN        Q  \n",
       "1      0  363272  7.0000   NaN        S  "
      ]
     },
     "metadata": {},
     "output_type": "display_data"
    },
    {
     "data": {
      "text/html": [
       "<div>\n",
       "<style scoped>\n",
       "    .dataframe tbody tr th:only-of-type {\n",
       "        vertical-align: middle;\n",
       "    }\n",
       "\n",
       "    .dataframe tbody tr th {\n",
       "        vertical-align: top;\n",
       "    }\n",
       "\n",
       "    .dataframe thead th {\n",
       "        text-align: right;\n",
       "    }\n",
       "</style>\n",
       "<table border=\"1\" class=\"dataframe\">\n",
       "  <thead>\n",
       "    <tr style=\"text-align: right;\">\n",
       "      <th></th>\n",
       "      <th>PassengerId</th>\n",
       "      <th>Survived</th>\n",
       "    </tr>\n",
       "  </thead>\n",
       "  <tbody>\n",
       "    <tr>\n",
       "      <th>0</th>\n",
       "      <td>892</td>\n",
       "      <td>0</td>\n",
       "    </tr>\n",
       "    <tr>\n",
       "      <th>1</th>\n",
       "      <td>893</td>\n",
       "      <td>1</td>\n",
       "    </tr>\n",
       "  </tbody>\n",
       "</table>\n",
       "</div>"
      ],
      "text/plain": [
       "   PassengerId  Survived\n",
       "0          892         0\n",
       "1          893         1"
      ]
     },
     "metadata": {},
     "output_type": "display_data"
    }
   ],
   "source": [
    "#read data sources as dataframes\n",
    "train_df = pd.read_csv(\"/kaggle/input/titanic/train.csv\")\n",
    "test_df = pd.read_csv(\"/kaggle/input/titanic/test.csv\")\n",
    "gensub_df = pd.read_csv(\"/kaggle/input/titanic/gender_submission.csv\")\n",
    "#display three dfs\n",
    "display(train_df.head(2), test_df.head(2), gensub_df.head(2))\n"
   ]
  },
  {
   "cell_type": "code",
   "execution_count": 3,
   "id": "1e82e7ff",
   "metadata": {
    "execution": {
     "iopub.execute_input": "2023-11-26T23:29:06.864866Z",
     "iopub.status.busy": "2023-11-26T23:29:06.863620Z",
     "iopub.status.idle": "2023-11-26T23:29:06.880224Z",
     "shell.execute_reply": "2023-11-26T23:29:06.877230Z"
    },
    "papermill": {
     "duration": 0.025935,
     "end_time": "2023-11-26T23:29:06.883030",
     "exception": false,
     "start_time": "2023-11-26T23:29:06.857095",
     "status": "completed"
    },
    "tags": []
   },
   "outputs": [
    {
     "name": "stdout",
     "output_type": "stream",
     "text": [
      "Training data contains 866 missing data\n",
      "Testing data contains 414 missing data\n",
      "Gender submission data contains 0 missing data\n"
     ]
    }
   ],
   "source": [
    "#inspect missing data \n",
    "print(f\"Training data contains {train_df.isna().sum().sum()} missing data\")\n",
    "print(f\"Testing data contains {test_df.isna().sum().sum()} missing data\")\n",
    "print(f\"Gender submission data contains {gensub_df.isna().sum().sum()} missing data\")"
   ]
  },
  {
   "cell_type": "code",
   "execution_count": 4,
   "id": "976168e6",
   "metadata": {
    "execution": {
     "iopub.execute_input": "2023-11-26T23:29:06.895636Z",
     "iopub.status.busy": "2023-11-26T23:29:06.894991Z",
     "iopub.status.idle": "2023-11-26T23:29:06.919175Z",
     "shell.execute_reply": "2023-11-26T23:29:06.918219Z"
    },
    "papermill": {
     "duration": 0.034207,
     "end_time": "2023-11-26T23:29:06.922256",
     "exception": false,
     "start_time": "2023-11-26T23:29:06.888049",
     "status": "completed"
    },
    "tags": []
   },
   "outputs": [
    {
     "name": "stdout",
     "output_type": "stream",
     "text": [
      "Training data contains 0 duplicate data\n",
      "Testing data contains 0 duplicate data\n",
      "Gender submission data contains 0 duplicate data\n"
     ]
    }
   ],
   "source": [
    "#inspect dupliate data \n",
    "print(f\"Training data contains {train_df.duplicated().sum()} duplicate data\")\n",
    "print(f\"Testing data contains {test_df.duplicated().sum()} duplicate data\")\n",
    "print(f\"Gender submission data contains {gensub_df.duplicated().sum()} duplicate data\")"
   ]
  },
  {
   "cell_type": "markdown",
   "id": "d660d20e",
   "metadata": {
    "papermill": {
     "duration": 0.00462,
     "end_time": "2023-11-26T23:29:06.932182",
     "exception": false,
     "start_time": "2023-11-26T23:29:06.927562",
     "status": "completed"
    },
    "tags": []
   },
   "source": [
    "# Exploratory data analysis"
   ]
  },
  {
   "cell_type": "code",
   "execution_count": 5,
   "id": "ab6219ba",
   "metadata": {
    "execution": {
     "iopub.execute_input": "2023-11-26T23:29:06.943711Z",
     "iopub.status.busy": "2023-11-26T23:29:06.943316Z",
     "iopub.status.idle": "2023-11-26T23:29:07.504385Z",
     "shell.execute_reply": "2023-11-26T23:29:07.502999Z"
    },
    "papermill": {
     "duration": 0.570662,
     "end_time": "2023-11-26T23:29:07.507687",
     "exception": false,
     "start_time": "2023-11-26T23:29:06.937025",
     "status": "completed"
    },
    "tags": []
   },
   "outputs": [
    {
     "data": {
      "image/png": "[encoded data removed]",
      "text/plain": [
       "<Figure size 1000x500 with 2 Axes>"
      ]
     },
     "metadata": {},
     "output_type": "display_data"
    }
   ],
   "source": [
    "#call sns catplot\n",
    "sns.catplot(x=\"Sex\", data=train_df, kind=\"count\", col=\"Survived\")\n",
    "#show plot\n",
    "plt.show()"
   ]
  },
  {
   "cell_type": "code",
   "execution_count": 6,
   "id": "a375176d",
   "metadata": {
    "execution": {
     "iopub.execute_input": "2023-11-26T23:29:07.519827Z",
     "iopub.status.busy": "2023-11-26T23:29:07.519429Z",
     "iopub.status.idle": "2023-11-26T23:29:08.254305Z",
     "shell.execute_reply": "2023-11-26T23:29:08.252687Z"
    },
    "papermill": {
     "duration": 0.743635,
     "end_time": "2023-11-26T23:29:08.256763",
     "exception": false,
     "start_time": "2023-11-26T23:29:07.513128",
     "status": "completed"
    },
    "tags": []
   },
   "outputs": [
    {
     "data": {
      "image/png": "[encoded data removed]",
      "text/plain": [
       "<Figure size 1572.11x500 with 3 Axes>"
      ]
     },
     "metadata": {},
     "output_type": "display_data"
    }
   ],
   "source": [
    "#call sns catplot\n",
    "sns.catplot(x='Sex', data=train_df, kind='count',hue='Survived', col='Pclass')\n",
    "#show plot\n",
    "plt.show()"
   ]
  },
  {
   "cell_type": "code",
   "execution_count": 7,
   "id": "5aea744d",
   "metadata": {
    "execution": {
     "iopub.execute_input": "2023-11-26T23:29:08.270454Z",
     "iopub.status.busy": "2023-11-26T23:29:08.270034Z",
     "iopub.status.idle": "2023-11-26T23:29:08.712770Z",
     "shell.execute_reply": "2023-11-26T23:29:08.711869Z"
    },
    "papermill": {
     "duration": 0.451669,
     "end_time": "2023-11-26T23:29:08.714558",
     "exception": false,
     "start_time": "2023-11-26T23:29:08.262889",
     "status": "completed"
    },
    "tags": []
   },
   "outputs": [
    {
     "data": {
      "image/png": "[encoded data removed]",
      "text/plain": [
       "<Figure size 1000x500 with 2 Axes>"
      ]
     },
     "metadata": {},
     "output_type": "display_data"
    }
   ],
   "source": [
    "#call sns cat plot\n",
    "sns.catplot(x='Age', kind='box', data=train_df, col='Survived')\n",
    "#show plot\n",
    "plt.show()"
   ]
  },
  {
   "cell_type": "code",
   "execution_count": 8,
   "id": "5e53024f",
   "metadata": {
    "execution": {
     "iopub.execute_input": "2023-11-26T23:29:08.728878Z",
     "iopub.status.busy": "2023-11-26T23:29:08.726877Z",
     "iopub.status.idle": "2023-11-26T23:29:08.755356Z",
     "shell.execute_reply": "2023-11-26T23:29:08.754135Z"
    },
    "papermill": {
     "duration": 0.039361,
     "end_time": "2023-11-26T23:29:08.759501",
     "exception": false,
     "start_time": "2023-11-26T23:29:08.720140",
     "status": "completed"
    },
    "tags": []
   },
   "outputs": [
    {
     "data": {
      "text/html": [
       "<div>\n",
       "<style scoped>\n",
       "    .dataframe tbody tr th:only-of-type {\n",
       "        vertical-align: middle;\n",
       "    }\n",
       "\n",
       "    .dataframe tbody tr th {\n",
       "        vertical-align: top;\n",
       "    }\n",
       "\n",
       "    .dataframe thead th {\n",
       "        text-align: right;\n",
       "    }\n",
       "</style>\n",
       "<table border=\"1\" class=\"dataframe\">\n",
       "  <thead>\n",
       "    <tr style=\"text-align: right;\">\n",
       "      <th></th>\n",
       "      <th>PassengerId</th>\n",
       "      <th>Survived</th>\n",
       "      <th>Pclass</th>\n",
       "      <th>Name</th>\n",
       "      <th>Sex</th>\n",
       "      <th>Age</th>\n",
       "      <th>SibSp</th>\n",
       "      <th>Parch</th>\n",
       "      <th>Ticket</th>\n",
       "      <th>Fare</th>\n",
       "      <th>Cabin</th>\n",
       "      <th>Embarked</th>\n",
       "    </tr>\n",
       "  </thead>\n",
       "  <tbody>\n",
       "    <tr>\n",
       "      <th>1</th>\n",
       "      <td>2</td>\n",
       "      <td>1</td>\n",
       "      <td>1</td>\n",
       "      <td>Cumings, Mrs. John Bradley (Florence Briggs Th...</td>\n",
       "      <td>female</td>\n",
       "      <td>38.0</td>\n",
       "      <td>1</td>\n",
       "      <td>0</td>\n",
       "      <td>PC 17599</td>\n",
       "      <td>71.2833</td>\n",
       "      <td>C85</td>\n",
       "      <td>C</td>\n",
       "    </tr>\n",
       "    <tr>\n",
       "      <th>2</th>\n",
       "      <td>3</td>\n",
       "      <td>1</td>\n",
       "      <td>3</td>\n",
       "      <td>Heikkinen, Miss. Laina</td>\n",
       "      <td>female</td>\n",
       "      <td>26.0</td>\n",
       "      <td>0</td>\n",
       "      <td>0</td>\n",
       "      <td>STON/O2. 3101282</td>\n",
       "      <td>7.9250</td>\n",
       "      <td>NaN</td>\n",
       "      <td>S</td>\n",
       "    </tr>\n",
       "  </tbody>\n",
       "</table>\n",
       "</div>"
      ],
      "text/plain": [
       "   PassengerId  Survived  Pclass  \\\n",
       "1            2         1       1   \n",
       "2            3         1       3   \n",
       "\n",
       "                                                Name     Sex   Age  SibSp  \\\n",
       "1  Cumings, Mrs. John Bradley (Florence Briggs Th...  female  38.0      1   \n",
       "2                             Heikkinen, Miss. Laina  female  26.0      0   \n",
       "\n",
       "   Parch            Ticket     Fare Cabin Embarked  \n",
       "1      0          PC 17599  71.2833   C85        C  \n",
       "2      0  STON/O2. 3101282   7.9250   NaN        S  "
      ]
     },
     "metadata": {},
     "output_type": "display_data"
    },
    {
     "data": {
      "text/html": [
       "<div>\n",
       "<style scoped>\n",
       "    .dataframe tbody tr th:only-of-type {\n",
       "        vertical-align: middle;\n",
       "    }\n",
       "\n",
       "    .dataframe tbody tr th {\n",
       "        vertical-align: top;\n",
       "    }\n",
       "\n",
       "    .dataframe thead th {\n",
       "        text-align: right;\n",
       "    }\n",
       "</style>\n",
       "<table border=\"1\" class=\"dataframe\">\n",
       "  <thead>\n",
       "    <tr style=\"text-align: right;\">\n",
       "      <th></th>\n",
       "      <th>PassengerId</th>\n",
       "      <th>Survived</th>\n",
       "      <th>Pclass</th>\n",
       "      <th>Name</th>\n",
       "      <th>Sex</th>\n",
       "      <th>Age</th>\n",
       "      <th>SibSp</th>\n",
       "      <th>Parch</th>\n",
       "      <th>Ticket</th>\n",
       "      <th>Fare</th>\n",
       "      <th>Cabin</th>\n",
       "      <th>Embarked</th>\n",
       "    </tr>\n",
       "  </thead>\n",
       "  <tbody>\n",
       "    <tr>\n",
       "      <th>0</th>\n",
       "      <td>1</td>\n",
       "      <td>0</td>\n",
       "      <td>3</td>\n",
       "      <td>Braund, Mr. Owen Harris</td>\n",
       "      <td>male</td>\n",
       "      <td>22.0</td>\n",
       "      <td>1</td>\n",
       "      <td>0</td>\n",
       "      <td>A/5 21171</td>\n",
       "      <td>7.25</td>\n",
       "      <td>NaN</td>\n",
       "      <td>S</td>\n",
       "    </tr>\n",
       "    <tr>\n",
       "      <th>4</th>\n",
       "      <td>5</td>\n",
       "      <td>0</td>\n",
       "      <td>3</td>\n",
       "      <td>Allen, Mr. William Henry</td>\n",
       "      <td>male</td>\n",
       "      <td>35.0</td>\n",
       "      <td>0</td>\n",
       "      <td>0</td>\n",
       "      <td>373450</td>\n",
       "      <td>8.05</td>\n",
       "      <td>NaN</td>\n",
       "      <td>S</td>\n",
       "    </tr>\n",
       "  </tbody>\n",
       "</table>\n",
       "</div>"
      ],
      "text/plain": [
       "   PassengerId  Survived  Pclass                      Name   Sex   Age  SibSp  \\\n",
       "0            1         0       3   Braund, Mr. Owen Harris  male  22.0      1   \n",
       "4            5         0       3  Allen, Mr. William Henry  male  35.0      0   \n",
       "\n",
       "   Parch     Ticket  Fare Cabin Embarked  \n",
       "0      0  A/5 21171  7.25   NaN        S  \n",
       "4      0     373450  8.05   NaN        S  "
      ]
     },
     "metadata": {},
     "output_type": "display_data"
    }
   ],
   "source": [
    "#filter by survived feature\n",
    "survived_df = train_df[train_df['Survived']==1]\n",
    "dead_df = train_df[train_df['Survived']==0]\n",
    "#inspect dataframes\n",
    "display(survived_df.head(2), dead_df.head(2))"
   ]
  },
  {
   "cell_type": "code",
   "execution_count": 9,
   "id": "90b7bcaf",
   "metadata": {
    "execution": {
     "iopub.execute_input": "2023-11-26T23:29:08.773430Z",
     "iopub.status.busy": "2023-11-26T23:29:08.773041Z",
     "iopub.status.idle": "2023-11-26T23:29:09.347351Z",
     "shell.execute_reply": "2023-11-26T23:29:09.345552Z"
    },
    "papermill": {
     "duration": 0.584324,
     "end_time": "2023-11-26T23:29:09.349880",
     "exception": false,
     "start_time": "2023-11-26T23:29:08.765556",
     "status": "completed"
    },
    "tags": []
   },
   "outputs": [
    {
     "data": {
      "image/png": "[encoded data removed]",
      "text/plain": [
       "<Figure size 1200x600 with 2 Axes>"
      ]
     },
     "metadata": {},
     "output_type": "display_data"
    }
   ],
   "source": [
    "#create histograms for ages \n",
    "plt.figure(figsize=(12, 6))\n",
    "#histogram for ages who survived \n",
    "plt.subplot(1, 2, 1)\n",
    "sns.histplot(survived_df['Age'].dropna(), bins=20, color='skyblue', kde=True)\n",
    "#call plot title\n",
    "plt.title('Distribution of age (Survived)')\n",
    "#call axis labels \n",
    "plt.xlabel('Age')\n",
    "plt.ylabel('Frequency')\n",
    "#histogram for ages who survived \n",
    "plt.subplot(1, 2, 2)\n",
    "sns.histplot(dead_df['Age'].dropna(), bins=20, color='salmon', kde=True)\n",
    "#call plot title\n",
    "plt.title('Distribution of age (Deceased)')\n",
    "#call axis labels \n",
    "plt.xlabel('Age')\n",
    "plt.ylabel('Frequency')\n",
    "#show plot\n",
    "plt.show()"
   ]
  },
  {
   "cell_type": "code",
   "execution_count": 10,
   "id": "ab566f94",
   "metadata": {
    "execution": {
     "iopub.execute_input": "2023-11-26T23:29:09.367410Z",
     "iopub.status.busy": "2023-11-26T23:29:09.366975Z",
     "iopub.status.idle": "2023-11-26T23:29:09.751587Z",
     "shell.execute_reply": "2023-11-26T23:29:09.750118Z"
    },
    "papermill": {
     "duration": 0.396028,
     "end_time": "2023-11-26T23:29:09.754210",
     "exception": false,
     "start_time": "2023-11-26T23:29:09.358182",
     "status": "completed"
    },
    "tags": []
   },
   "outputs": [
    {
     "data": {
      "image/png": "[encoded data removed]",
      "text/plain": [
       "<Figure size 1000x500 with 2 Axes>"
      ]
     },
     "metadata": {},
     "output_type": "display_data"
    }
   ],
   "source": [
    "#call sns cat plot\n",
    "sns.catplot(x='Fare', kind='box', data=train_df, col='Survived')\n",
    "#show plot\n",
    "plt.show()"
   ]
  },
  {
   "cell_type": "code",
   "execution_count": 11,
   "id": "4b0354c8",
   "metadata": {
    "execution": {
     "iopub.execute_input": "2023-11-26T23:29:09.771044Z",
     "iopub.status.busy": "2023-11-26T23:29:09.770575Z",
     "iopub.status.idle": "2023-11-26T23:29:10.317457Z",
     "shell.execute_reply": "2023-11-26T23:29:10.315790Z"
    },
    "papermill": {
     "duration": 0.557669,
     "end_time": "2023-11-26T23:29:10.319610",
     "exception": false,
     "start_time": "2023-11-26T23:29:09.761941",
     "status": "completed"
    },
    "tags": []
   },
   "outputs": [
    {
     "data": {
      "image/png": "[encoded data removed]",
      "text/plain": [
       "<Figure size 1200x600 with 2 Axes>"
      ]
     },
     "metadata": {},
     "output_type": "display_data"
    }
   ],
   "source": [
    "#create histograms for ages \n",
    "plt.figure(figsize=(12, 6))\n",
    "#histogram for fare who survived \n",
    "plt.subplot(1, 2, 1)\n",
    "sns.histplot(survived_df['Fare'].dropna(), bins='auto', color='skyblue', kde=True)\n",
    "#call plot title\n",
    "plt.title('Distribution of ticket fare (Survived)')\n",
    "#call axis labels \n",
    "plt.xlabel('Fare ($)')\n",
    "plt.ylabel('Frequency')\n",
    "#histogram for ages who survived \n",
    "plt.subplot(1, 2, 2)\n",
    "sns.histplot(dead_df['Fare'].dropna(), bins='auto', color='salmon', kde=True)\n",
    "#call plot title\n",
    "plt.title('Distribution of ticket fare (Deceased)')\n",
    "#call axis labels \n",
    "plt.xlabel('Fare ($)')\n",
    "plt.ylabel('Frequency')\n",
    "#show plot\n",
    "plt.show()"
   ]
  },
  {
   "cell_type": "code",
   "execution_count": 12,
   "id": "ede9681f",
   "metadata": {
    "execution": {
     "iopub.execute_input": "2023-11-26T23:29:10.337514Z",
     "iopub.status.busy": "2023-11-26T23:29:10.336304Z",
     "iopub.status.idle": "2023-11-26T23:29:10.350232Z",
     "shell.execute_reply": "2023-11-26T23:29:10.348042Z"
    },
    "papermill": {
     "duration": 0.026246,
     "end_time": "2023-11-26T23:29:10.353203",
     "exception": false,
     "start_time": "2023-11-26T23:29:10.326957",
     "status": "completed"
    },
    "tags": []
   },
   "outputs": [
    {
     "data": {
      "text/plain": [
       "count    891.000000\n",
       "mean       0.381594\n",
       "std        0.806057\n",
       "min        0.000000\n",
       "25%        0.000000\n",
       "50%        0.000000\n",
       "75%        0.000000\n",
       "max        6.000000\n",
       "Name: Parch, dtype: float64"
      ]
     },
     "execution_count": 12,
     "metadata": {},
     "output_type": "execute_result"
    }
   ],
   "source": [
    "#call describe\n",
    "train_df['Parch'].describe()"
   ]
  },
  {
   "cell_type": "code",
   "execution_count": 13,
   "id": "ceff0b84",
   "metadata": {
    "execution": {
     "iopub.execute_input": "2023-11-26T23:29:10.370812Z",
     "iopub.status.busy": "2023-11-26T23:29:10.370334Z",
     "iopub.status.idle": "2023-11-26T23:29:10.384990Z",
     "shell.execute_reply": "2023-11-26T23:29:10.383111Z"
    },
    "papermill": {
     "duration": 0.027012,
     "end_time": "2023-11-26T23:29:10.388103",
     "exception": false,
     "start_time": "2023-11-26T23:29:10.361091",
     "status": "completed"
    },
    "tags": []
   },
   "outputs": [
    {
     "data": {
      "text/plain": [
       "count    891.000000\n",
       "mean       0.523008\n",
       "std        1.102743\n",
       "min        0.000000\n",
       "25%        0.000000\n",
       "50%        0.000000\n",
       "75%        1.000000\n",
       "max        8.000000\n",
       "Name: SibSp, dtype: float64"
      ]
     },
     "execution_count": 13,
     "metadata": {},
     "output_type": "execute_result"
    }
   ],
   "source": [
    "#call describe\n",
    "train_df['SibSp'].describe()"
   ]
  },
  {
   "cell_type": "markdown",
   "id": "36a4f41a",
   "metadata": {
    "papermill": {
     "duration": 0.006759,
     "end_time": "2023-11-26T23:29:10.403176",
     "exception": false,
     "start_time": "2023-11-26T23:29:10.396417",
     "status": "completed"
    },
    "tags": []
   },
   "source": [
    "# Models"
   ]
  },
  {
   "cell_type": "markdown",
   "id": "2d16dffc",
   "metadata": {
    "papermill": {
     "duration": 0.00657,
     "end_time": "2023-11-26T23:29:10.416923",
     "exception": false,
     "start_time": "2023-11-26T23:29:10.410353",
     "status": "completed"
    },
    "tags": []
   },
   "source": []
  },
  {
   "cell_type": "code",
   "execution_count": null,
   "id": "1f7d6f97",
   "metadata": {
    "papermill": {
     "duration": 0.006665,
     "end_time": "2023-11-26T23:29:10.430392",
     "exception": false,
     "start_time": "2023-11-26T23:29:10.423727",
     "status": "completed"
    },
    "tags": []
   },
   "outputs": [],
   "source": []
  }
 ],
 "metadata": {
  "kaggle": {
   "accelerator": "none",
   "dataSources": [
    {
     "databundleVersionId": 26502,
     "sourceId": 3136,
     "sourceType": "competition"
    }
   ],
   "dockerImageVersionId": 30587,
   "isGpuEnabled": false,
   "isInternetEnabled": false,
   "language": "python",
   "sourceType": "notebook"
  },
  "kernelspec": {
   "display_name": "Python 3",
   "language": "python",
   "name": "python3"
  },
  "language_info": {
   "codemirror_mode": {
    "name": "ipython",
    "version": 3
   },
   "file_extension": ".py",
   "mimetype": "text/x-python",
   "name": "python",
   "nbconvert_exporter": "python",
   "pygments_lexer": "ipython3",
   "version": "3.10.12"
  },
  "papermill": {
   "default_parameters": {},
   "duration": 9.219015,
   "end_time": "2023-11-26T23:29:11.361964",
   "environment_variables": {},
   "exception": null,
   "input_path": "__notebook__.ipynb",
   "output_path": "__notebook__.ipynb",
   "parameters": {},
   "start_time": "2023-11-26T23:29:02.142949",
   "version": "2.4.0"
  }
 },
 "nbformat": 4,
 "nbformat_minor": 5
}
